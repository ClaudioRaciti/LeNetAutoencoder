{
 "cells": [
  {
   "cell_type": "markdown",
   "id": "17c21400",
   "metadata": {},
   "source": [
    "# Implementation and training of LeNet for denoising"
   ]
  },
  {
   "cell_type": "code",
   "execution_count": 1,
   "id": "f916af06",
   "metadata": {},
   "outputs": [],
   "source": [
    "import torch\n",
    "import torchvision\n",
    "import numpy as np\n",
    "\n",
    "from torch import nn\n",
    "from torch import optim\n",
    "from torch.utils.data import DataLoader\n",
    "from torchvision import transforms"
   ]
  },
  {
   "cell_type": "code",
   "execution_count": 2,
   "id": "842ed05b",
   "metadata": {},
   "outputs": [],
   "source": [
    "device = torch.device(\"cuda:0\" if torch.cuda.is_available() else \"cpu\")\n",
    "torch.backends.cudnn.benchmark = True"
   ]
  },
  {
   "cell_type": "markdown",
   "id": "56d05632",
   "metadata": {},
   "source": [
    "## Loading dataset from MNIST 32"
   ]
  },
  {
   "cell_type": "code",
   "execution_count": 3,
   "id": "83c5aec1",
   "metadata": {},
   "outputs": [],
   "source": [
    "# transform = transforms.Normalize((0.14,), (0.25,))      # Set mean to 0 and  var to 1\n",
    "\n",
    "images, labels = torch.load('./.data/MNIST32_train.pkl')\n",
    "# images = transform(images) \n",
    "\n",
    "all_train = torch.utils.data.TensorDataset(images, labels) \n",
    "train_size = int(0.9 * len(all_train))\n",
    "val_size = len(all_train) - train_size\n",
    "\n",
    "train_set, val_set = torch.utils.data.random_split(all_train, [train_size, val_size])\n",
    "\n",
    "train_loader = DataLoader(train_set, batch_size=128, shuffle=True, num_workers = 2, pin_memory = True)\n",
    "val_loader = DataLoader(val_set, batch_size=128, shuffle=False, num_workers = 2, pin_memory = True)\n",
    "\n",
    "images, labels = torch.load('./.data/MNIST32_val.pkl')\n",
    "# images = transform(images) \n",
    "\n",
    "test_data = torch.utils.data.TensorDataset(images, labels)\n",
    "test_loader = DataLoader(test_data, batch_size=128, shuffle=False, num_workers = 2, pin_memory = True)"
   ]
  },
  {
   "cell_type": "markdown",
   "id": "425402ce",
   "metadata": {},
   "source": [
    "## Creating the model"
   ]
  },
  {
   "cell_type": "code",
   "execution_count": 4,
   "id": "e11d5451",
   "metadata": {},
   "outputs": [],
   "source": [
    "model = nn.Sequential(\n",
    "    nn.Conv2d(1, 6, kernel_size = 5, stride = 1, padding = 0),  # Extracts feautres     -> 28x28x6\n",
    "    nn.ReLU(),\n",
    "    nn.MaxPool2d(kernel_size = 2, stride = 2, padding = 0),     # Reduce dimensionality -> 14x14x6\n",
    "\n",
    "    nn.Conv2d(6, 16, kernel_size = 5, stride = 1, padding = 0), # Extracts feautres     -> 10x10x16\n",
    "    nn.ReLU(),\n",
    "    nn.MaxPool2d(kernel_size = 2, stride = 2, padding = 0),     # Reduce dimensionality -> 5x5x16\n",
    "\n",
    "    nn.Flatten(),       # 5x5x16 -> 400\n",
    "\n",
    "    nn.Linear(400, 120),# Fully connected layer\n",
    "    nn.ReLU(),\n",
    "    nn.Linear(120, 84), # Fully connected layer\n",
    "    nn.ReLU(),\n",
    "    nn.Linear(84, 10),   # Non normalized output\n",
    ")\n",
    "\n",
    "model = model.to(device, non_blocking = True) "
   ]
  },
  {
   "cell_type": "markdown",
   "id": "64d86e76",
   "metadata": {},
   "source": [
    "## Training the classifier"
   ]
  },
  {
   "cell_type": "code",
   "execution_count": 5,
   "id": "65f44211",
   "metadata": {},
   "outputs": [],
   "source": [
    "criterion = nn.CrossEntropyLoss()\n",
    "optimizer = optim.Adam(model.parameters(),\n",
    "                       lr=1e-4,\n",
    "                       weight_decay=1e-6)"
   ]
  },
  {
   "cell_type": "code",
   "execution_count": 6,
   "id": "4daa1cb1",
   "metadata": {},
   "outputs": [],
   "source": [
    "def accuracy(y_pred, y):                      # we already provide an accuracy function\n",
    "\n",
    "  pred = y_pred.detach().argmax(dim=1)\n",
    "  corrects = (pred == y)\n",
    "\n",
    "  accuracy = (corrects.sum()/corrects.size(0)).float()\n",
    "\n",
    "  return accuracy"
   ]
  },
  {
   "cell_type": "code",
   "execution_count": 7,
   "id": "e97043a9",
   "metadata": {},
   "outputs": [],
   "source": [
    "# this code is taken from https://github.com/Bjarten/early-stopping-pytorch\n",
    "# Copyright (c) 2018 Bjarte Mehus Sunde under MIT License\n",
    "# to see full license consult the NOTICE.txt file on the Github repository from which this notebook is taken from\n",
    "\n",
    "class EarlyStopping:\n",
    "  def __init__(self, patience=5, delta=0, verbose=False, path='checkpoint.pt'):\n",
    "    self.patience = patience       # Number of epochs to wait for improvement\n",
    "    self.delta = delta             # Minimum change in monitored metric to qualify as improvement\n",
    "    self.verbose = verbose         # If True, print a message when validation metric improves\n",
    "    self.path = path               # Path to save the model checkpoint\n",
    "    self.counter = 0               # Counter to track epochs without improvement\n",
    "    self.best_score = None         # Best validation metric achieved so far\n",
    "    self.early_stop = False        # Flag to indicate whether to stop training\n",
    "\n",
    "  def __call__(self, val_metric, model):\n",
    "    if self.best_score is None:\n",
    "      self.best_score = val_metric\n",
    "      self.save_checkpoint(model)\n",
    "    elif val_metric > self.best_score + self.delta:\n",
    "      self.counter += 1\n",
    "      if self.verbose:\n",
    "        print(f'Epochs without improvement: {self.counter}')\n",
    "      if self.counter >= self.patience:\n",
    "                self.early_stop = True\n",
    "    else:\n",
    "      self.best_score = val_metric\n",
    "      self.save_checkpoint(model)\n",
    "      self.counter = 0\n",
    "\n",
    "\n",
    "  def save_checkpoint(self, model):\n",
    "    torch.save(model.state_dict(), self.path)"
   ]
  },
  {
   "cell_type": "code",
   "execution_count": 8,
   "id": "ad5ff42a",
   "metadata": {},
   "outputs": [
    {
     "name": "stdout",
     "output_type": "stream",
     "text": [
      "Epoch 1: \n",
      "Train Loss = 1.27158, Validation Loss = 0.43391\n",
      "Train Acc = 0.640583, Validation Acc = 0.876187\n",
      "Epoch 2: \n",
      "Train Loss = 0.31873, Validation Loss = 0.26266\n",
      "Train Acc = 0.903505, Validation Acc = 0.917886\n",
      "Epoch 3: \n",
      "Train Loss = 0.22796, Validation Loss = 0.20973\n",
      "Train Acc = 0.930489, Validation Acc = 0.931231\n",
      "Epoch 4: \n",
      "Train Loss = 0.19012, Validation Loss = 0.18504\n",
      "Train Acc = 0.940475, Validation Acc = 0.940088\n",
      "Epoch 5: \n",
      "Train Loss = 0.16631, Validation Loss = 0.16006\n",
      "Train Acc = 0.947960, Validation Acc = 0.948898\n",
      "Epoch 6: \n",
      "Train Loss = 0.14720, Validation Loss = 0.14701\n",
      "Train Acc = 0.953762, Validation Acc = 0.952674\n",
      "Epoch 7: \n",
      "Train Loss = 0.13217, Validation Loss = 0.13282\n",
      "Train Acc = 0.957796, Validation Acc = 0.954431\n",
      "Epoch 8: \n",
      "Train Loss = 0.12019, Validation Loss = 0.11847\n",
      "Train Acc = 0.961144, Validation Acc = 0.960795\n",
      "Epoch 9: \n",
      "Train Loss = 0.10997, Validation Loss = 0.10670\n",
      "Train Acc = 0.964397, Validation Acc = 0.964642\n",
      "Epoch 10: \n",
      "Train Loss = 0.10135, Validation Loss = 0.09661\n",
      "Train Acc = 0.966240, Validation Acc = 0.966993\n",
      "Epoch 11: \n",
      "Train Loss = 0.09510, Validation Loss = 0.09326\n",
      "Train Acc = 0.968483, Validation Acc = 0.967658\n",
      "Epoch 12: \n",
      "Train Loss = 0.08775, Validation Loss = 0.08705\n",
      "Train Acc = 0.970652, Validation Acc = 0.970365\n",
      "Epoch 13: \n",
      "Train Loss = 0.08273, Validation Loss = 0.08442\n",
      "Train Acc = 0.972286, Validation Acc = 0.971172\n",
      "Epoch 14: \n",
      "Train Loss = 0.07820, Validation Loss = 0.08021\n",
      "Train Acc = 0.974021, Validation Acc = 0.971315\n",
      "Epoch 15: \n",
      "Train Loss = 0.07452, Validation Loss = 0.07566\n",
      "Train Acc = 0.974997, Validation Acc = 0.972502\n",
      "Epoch 16: \n",
      "Train Loss = 0.07104, Validation Loss = 0.07326\n",
      "Train Acc = 0.976055, Validation Acc = 0.973001\n",
      "Epoch 17: \n",
      "Train Loss = 0.06908, Validation Loss = 0.07245\n",
      "Train Acc = 0.975854, Validation Acc = 0.973143\n",
      "Epoch 18: \n",
      "Train Loss = 0.06544, Validation Loss = 0.06571\n",
      "Train Acc = 0.977467, Validation Acc = 0.977204\n",
      "Epoch 19: \n",
      "Train Loss = 0.06293, Validation Loss = 0.06642\n",
      "Train Acc = 0.978501, Validation Acc = 0.976871\n",
      "Epoch 20: \n",
      "Train Loss = 0.06058, Validation Loss = 0.06208\n",
      "Train Acc = 0.979440, Validation Acc = 0.978035\n",
      "Epoch 21: \n",
      "Train Loss = 0.05878, Validation Loss = 0.05931\n",
      "Train Acc = 0.980106, Validation Acc = 0.978011\n",
      "Epoch 22: \n",
      "Train Loss = 0.05759, Validation Loss = 0.05671\n",
      "Train Acc = 0.980130, Validation Acc = 0.980694\n",
      "Epoch 23: \n",
      "Train Loss = 0.05593, Validation Loss = 0.06224\n",
      "Train Acc = 0.980538, Validation Acc = 0.976467\n",
      "Epoch 24: \n",
      "Train Loss = 0.05407, Validation Loss = 0.06076\n",
      "Train Acc = 0.981093, Validation Acc = 0.976183\n",
      "Epoch 25: \n",
      "Train Loss = 0.05284, Validation Loss = 0.05753\n",
      "Train Acc = 0.981947, Validation Acc = 0.977868\n",
      "Epoch 26: \n",
      "Train Loss = 0.05170, Validation Loss = 0.05536\n",
      "Train Acc = 0.982130, Validation Acc = 0.979863\n",
      "Epoch 27: \n",
      "Train Loss = 0.04981, Validation Loss = 0.05435\n",
      "Train Acc = 0.983203, Validation Acc = 0.979673\n",
      "Epoch 28: \n",
      "Train Loss = 0.04826, Validation Loss = 0.05123\n",
      "Train Acc = 0.983441, Validation Acc = 0.980860\n",
      "Epoch 29: \n",
      "Train Loss = 0.04759, Validation Loss = 0.05070\n",
      "Train Acc = 0.983568, Validation Acc = 0.981359\n",
      "Epoch 30: \n",
      "Train Loss = 0.04607, Validation Loss = 0.05185\n",
      "Train Acc = 0.983997, Validation Acc = 0.980006\n",
      "Epoch 31: \n",
      "Train Loss = 0.04581, Validation Loss = 0.05026\n",
      "Train Acc = 0.984148, Validation Acc = 0.981359\n",
      "Epoch 32: \n",
      "Train Loss = 0.04557, Validation Loss = 0.05945\n",
      "Train Acc = 0.984169, Validation Acc = 0.976966\n",
      "Epoch 33: \n",
      "Train Loss = 0.04454, Validation Loss = 0.04814\n",
      "Train Acc = 0.984372, Validation Acc = 0.980219\n",
      "Epoch 34: \n",
      "Train Loss = 0.04354, Validation Loss = 0.04588\n",
      "Train Acc = 0.984539, Validation Acc = 0.983520\n",
      "Epoch 35: \n",
      "Train Loss = 0.04231, Validation Loss = 0.04834\n",
      "Train Acc = 0.985576, Validation Acc = 0.982214\n",
      "Epoch 36: \n",
      "Train Loss = 0.04188, Validation Loss = 0.04961\n",
      "Train Acc = 0.985687, Validation Acc = 0.981692\n",
      "Epoch 37: \n",
      "Train Loss = 0.04177, Validation Loss = 0.04850\n",
      "Train Acc = 0.985610, Validation Acc = 0.982713\n",
      "Epoch 38: \n",
      "Train Loss = 0.03979, Validation Loss = 0.04781\n",
      "Train Acc = 0.986245, Validation Acc = 0.981644\n",
      "Epoch 39: \n",
      "Train Loss = 0.03906, Validation Loss = 0.04764\n",
      "Train Acc = 0.986459, Validation Acc = 0.981169\n",
      "Early stopping triggered.\n"
     ]
    }
   ],
   "source": [
    "EPOCHS = 200\n",
    "train_loss = []\n",
    "val_loss = []\n",
    "train_acc = []\n",
    "val_acc = []\n",
    "\n",
    "early_stopper = EarlyStopping(path=\".checkpoint/model_checkpoint.pt\")\n",
    "\n",
    "for epoch in range(EPOCHS):\n",
    "    model.train()\n",
    "    tloss = 0\n",
    "    tacc = 0\n",
    "    for batch_idx, (x, y) in enumerate(train_loader):\n",
    "        x = x.to(device, non_blocking = True)\n",
    "        y = y.to(device, non_blocking = True)\n",
    "        pred = model(x)\n",
    "\n",
    "        loss = criterion(pred, y)\n",
    "\n",
    "        for param in model.parameters():\n",
    "            param.grad = None\n",
    "        loss.backward()\n",
    "        optimizer.step()\n",
    "\n",
    "        tloss += loss.detach()\n",
    "        tacc += accuracy(pred, y)\n",
    "\n",
    "    train_loss.append(tloss/len(train_loader))\n",
    "    train_acc.append(tacc/len(train_loader))\n",
    "\n",
    "    model.eval()\n",
    "    tloss = 0\n",
    "    tacc = 0\n",
    "    for batch_idx, (x, y) in enumerate(val_loader):\n",
    "        x = x.to(device, non_blocking = True)\n",
    "        y = y.to(device, non_blocking = True)\n",
    "        pred = model(x)\n",
    "\n",
    "        loss = criterion(pred, y)\n",
    "\n",
    "        tloss += loss.detach()\n",
    "        tacc += accuracy(pred, y)\n",
    "    \n",
    "    val_loss.append(tloss/len(val_loader))\n",
    "    val_acc.append(tacc/len(val_loader))\n",
    "\n",
    "    early_stopper(val_loss[-1], model)\n",
    "    print(f\"Epoch {epoch + 1}: \\nTrain Loss = {train_loss[-1]:.5f}, Validation Loss = {val_loss[-1]:.5f}\")\n",
    "    print(f\"Train Acc = {train_acc[-1]:-5f}, Validation Acc = {val_acc[-1]:-5f}\")\n",
    "    if early_stopper.early_stop:\n",
    "      print(\"Early stopping triggered.\")\n",
    "      break\n"
   ]
  },
  {
   "cell_type": "code",
   "execution_count": 9,
   "id": "81c427d6",
   "metadata": {},
   "outputs": [
    {
     "data": {
      "image/png": "[encoded data removed]",
      "text/plain": [
       "<Figure size 640x480 with 1 Axes>"
      ]
     },
     "metadata": {},
     "output_type": "display_data"
    }
   ],
   "source": [
    "import matplotlib.pyplot as plt\n",
    "train_loss = [it.cpu() for it in train_loss]\n",
    "tloss = [it.cpu() for it in val_loss]\n",
    "plt.plot(train_loss, label = \"Train\")\n",
    "plt.plot(tloss, label = \"Test\")\n",
    "\n",
    "plt.xlabel(\"Epochs\")\n",
    "plt.ylabel(\"Loss\")\n",
    "\n",
    "plt.legend()\n",
    "\n",
    "plt.show()"
   ]
  },
  {
   "cell_type": "code",
   "execution_count": 10,
   "id": "32ee500d",
   "metadata": {},
   "outputs": [
    {
     "data": {
      "image/png": "[encoded data removed]",
      "text/plain": [
       "<Figure size 640x480 with 1 Axes>"
      ]
     },
     "metadata": {},
     "output_type": "display_data"
    }
   ],
   "source": [
    "train_acc = [it.cpu() for it in train_acc]\n",
    "tacc= [it.cpu() for it in val_acc]\n",
    "plt.plot(train_acc, label = \"Train\")\n",
    "plt.plot(tacc, label = \"Test\")\n",
    "\n",
    "plt.xlabel(\"Epochs\")\n",
    "plt.ylabel(\"Loss\")\n",
    "\n",
    "plt.legend()\n",
    "\n",
    "plt.show()"
   ]
  },
  {
   "cell_type": "code",
   "execution_count": 11,
   "id": "1000c64a",
   "metadata": {},
   "outputs": [
    {
     "name": "stdout",
     "output_type": "stream",
     "text": [
      "Test Loss = 0.044261, Test Acc = 0.985166\n"
     ]
    }
   ],
   "source": [
    "model.eval()\n",
    "tloss = 0\n",
    "tacc = 0\n",
    "for batch_idx, (x, y) in enumerate(test_loader):\n",
    "    x = x.to(device, non_blocking = True)\n",
    "    y = y.to(device, non_blocking = True)\n",
    "    pred = model(x)\n",
    "\n",
    "    loss = criterion(pred, y)\n",
    "\n",
    "    tloss += loss.detach()\n",
    "    tacc += accuracy(pred, y)\n",
    "\n",
    "tloss = (tloss/len(test_loader))\n",
    "tacc = (tacc/len(test_loader))\n",
    "print(f\"Test Loss = {tloss:-5f}, Test Acc = {tacc:-5f}\")"
   ]
  }
 ],
 "metadata": {
  "kernelspec": {
   "display_name": "tf",
   "language": "python",
   "name": "python3"
  },
  "language_info": {
   "codemirror_mode": {
    "name": "ipython",
    "version": 3
   },
   "file_extension": ".py",
   "mimetype": "text/x-python",
   "name": "python",
   "nbconvert_exporter": "python",
   "pygments_lexer": "ipython3",
   "version": "3.12.3"
  }
 },
 "nbformat": 4,
 "nbformat_minor": 5
}
