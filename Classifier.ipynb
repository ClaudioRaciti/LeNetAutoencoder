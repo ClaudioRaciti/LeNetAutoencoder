{
 "cells": [
  {
   "cell_type": "markdown",
   "id": "17c21400",
   "metadata": {},
   "source": [
    "# Implementation and training of LeNet for denoising"
   ]
  },
  {
   "cell_type": "code",
   "execution_count": 1,
   "id": "f916af06",
   "metadata": {},
   "outputs": [],
   "source": [
    "import torch\n",
    "import torchvision\n",
    "import numpy as np\n",
    "\n",
    "from torch import nn\n",
    "from torch import optim\n",
    "from torch.utils.data import DataLoader\n",
    "from torchvision import transforms"
   ]
  },
  {
   "cell_type": "code",
   "execution_count": 2,
   "id": "842ed05b",
   "metadata": {},
   "outputs": [],
   "source": [
    "device = torch.device(\"cuda:0\" if torch.cuda.is_available() else \"cpu\")\n",
    "torch.backends.cudnn.benchmark = True"
   ]
  },
  {
   "cell_type": "markdown",
   "id": "56d05632",
   "metadata": {},
   "source": [
    "## Loading dataset from MNIST 32"
   ]
  },
  {
   "cell_type": "code",
   "execution_count": 3,
   "id": "83c5aec1",
   "metadata": {},
   "outputs": [],
   "source": [
    "transform = transforms.Compose([\n",
    "    transforms.RandomResizedCrop((32,32), (0.90,1)),\n",
    "    transforms.RandomRotation((-5,  5))\n",
    "])     # Set mean to 0 and  var to 1\n",
    "\n",
    "images, labels = torch.load('./.data/MNIST32_train.pkl')\n",
    "#images = transform(images) \n",
    "\n",
    "all_train = torch.utils.data.TensorDataset(images, labels) \n",
    "train_size = int(0.9 * len(all_train))\n",
    "val_size = len(all_train) - train_size\n",
    "\n",
    "train_set, val_set = torch.utils.data.random_split(all_train, [train_size, val_size])\n",
    "\n",
    "train_loader = DataLoader(train_set, batch_size=128, shuffle=True, num_workers = 2, pin_memory = True)\n",
    "val_loader = DataLoader(val_set, batch_size=128, shuffle=False, num_workers = 2, pin_memory = True)\n",
    "\n",
    "images, labels = torch.load('./.data/MNIST32_val.pkl')\n",
    "#images = transform(images) \n",
    "\n",
    "test_data = torch.utils.data.TensorDataset(images, labels)\n",
    "test_loader = DataLoader(test_data, batch_size=128, shuffle=False, num_workers = 2, pin_memory = True)"
   ]
  },
  {
   "cell_type": "code",
   "execution_count": 4,
   "id": "14190b5e",
   "metadata": {},
   "outputs": [
    {
     "data": {
      "image/png": "[encoded data removed]",
      "text/plain": [
       "<Figure size 640x480 with 6 Axes>"
      ]
     },
     "metadata": {},
     "output_type": "display_data"
    }
   ],
   "source": [
    "import matplotlib.pyplot as plt\n",
    "fig = plt.figure()\n",
    "\n",
    "for i in range(6):\n",
    "  plt.subplot(2,3,i+1)\n",
    "  plt.tight_layout()\n",
    "  plt.imshow(images[i][0], cmap='gray', interpolation='none')\n",
    "  plt.title(\"Ground Truth: {}\".format(labels[i]))\n",
    "  plt.xticks([])\n",
    "  plt.yticks([])\n",
    "\n",
    "plt.show()"
   ]
  },
  {
   "cell_type": "markdown",
   "id": "425402ce",
   "metadata": {},
   "source": [
    "## Creating the model"
   ]
  },
  {
   "cell_type": "code",
   "execution_count": 5,
   "id": "e11d5451",
   "metadata": {},
   "outputs": [],
   "source": [
    "model = nn.Sequential(\n",
    "    nn.Conv2d(1, 6, kernel_size = 5, stride = 1, padding = 0),  # Extracts feautres     -> 28x28x6\n",
    "    nn.ReLU(),\n",
    "    nn.MaxPool2d(kernel_size = 2, stride = 2, padding = 0),     # Reduce dimensionality -> 14x14x6\n",
    "\n",
    "    nn.Conv2d(6, 16, kernel_size = 5, stride = 1, padding = 0), # Extracts feautres     -> 10x10x16\n",
    "    nn.ReLU(),\n",
    "    nn.MaxPool2d(kernel_size = 2, stride = 2, padding = 0),     # Reduce dimensionality -> 5x5x16\n",
    "\n",
    "    nn.Flatten(),       # 5x5x16 -> 400\n",
    "\n",
    "    nn.Linear(400, 120),# Fully connected layer\n",
    "    nn.ReLU(),\n",
    "    nn.Linear(120, 84), # Fully connected layer\n",
    "    nn.ReLU(),\n",
    "    nn.Linear(84, 10),   # Non normalized output\n",
    ")\n",
    "\n",
    "model = model.to(device, non_blocking = True) "
   ]
  },
  {
   "cell_type": "markdown",
   "id": "64d86e76",
   "metadata": {},
   "source": [
    "## Training the classifier"
   ]
  },
  {
   "cell_type": "code",
   "execution_count": 6,
   "id": "65f44211",
   "metadata": {},
   "outputs": [],
   "source": [
    "criterion = nn.CrossEntropyLoss()\n",
    "optimizer = optim.Adam(model.parameters(),\n",
    "                       lr=1e-3,\n",
    "                       weight_decay=1e-6)"
   ]
  },
  {
   "cell_type": "code",
   "execution_count": 7,
   "id": "4daa1cb1",
   "metadata": {},
   "outputs": [],
   "source": [
    "def accuracy(y_pred, y):                      # we already provide an accuracy function\n",
    "\n",
    "  pred = y_pred.detach().argmax(dim=1)\n",
    "  corrects = (pred == y)\n",
    "\n",
    "  accuracy = (corrects.sum()/corrects.size(0)).float()\n",
    "\n",
    "  return accuracy"
   ]
  },
  {
   "cell_type": "code",
   "execution_count": 8,
   "id": "e97043a9",
   "metadata": {},
   "outputs": [],
   "source": [
    "# this code is taken from https://github.com/Bjarten/early-stopping-pytorch\n",
    "# Copyright (c) 2018 Bjarte Mehus Sunde under MIT License\n",
    "# to see full license consult the NOTICE.txt file on the Github repository from which this notebook is taken from\n",
    "\n",
    "class EarlyStopping:\n",
    "  def __init__(self, patience=5, delta=0, verbose=False, path='checkpoint.pt'):\n",
    "    self.patience = patience       # Number of epochs to wait for improvement\n",
    "    self.delta = delta             # Minimum change in monitored metric to qualify as improvement\n",
    "    self.verbose = verbose         # If True, print a message when validation metric improves\n",
    "    self.path = path               # Path to save the model checkpoint\n",
    "    self.counter = 0               # Counter to track epochs without improvement\n",
    "    self.best_score = None         # Best validation metric achieved so far\n",
    "    self.early_stop = False        # Flag to indicate whether to stop training\n",
    "\n",
    "  def __call__(self, val_metric, model):\n",
    "    if self.best_score is None:\n",
    "      self.best_score = val_metric\n",
    "      self.save_checkpoint(model)\n",
    "    elif val_metric > self.best_score + self.delta:\n",
    "      self.counter += 1\n",
    "      if self.verbose:\n",
    "        print(f'Epochs without improvement: {self.counter}')\n",
    "      if self.counter >= self.patience:\n",
    "                self.early_stop = True\n",
    "    else:\n",
    "      self.best_score = val_metric\n",
    "      self.save_checkpoint(model)\n",
    "      self.counter = 0\n",
    "\n",
    "\n",
    "  def save_checkpoint(self, model):\n",
    "    torch.save(model, self.path)"
   ]
  },
  {
   "cell_type": "code",
   "execution_count": 9,
   "id": "ad5ff42a",
   "metadata": {},
   "outputs": [
    {
     "name": "stdout",
     "output_type": "stream",
     "text": [
      "Epoch 1: \n",
      "Train Loss = 0.35569, Validation Loss = 0.09820\n",
      "Train Acc = 0.895007, Validation Acc = 0.968156\n",
      "Epoch 2: \n",
      "Train Loss = 0.09000, Validation Loss = 0.07884\n",
      "Train Acc = 0.969075, Validation Acc = 0.972882\n",
      "Epoch 3: \n",
      "Train Loss = 0.06972, Validation Loss = 0.06211\n",
      "Train Acc = 0.975238, Validation Acc = 0.978676\n",
      "Epoch 4: \n",
      "Train Loss = 0.05901, Validation Loss = 0.05188\n",
      "Train Acc = 0.979035, Validation Acc = 0.980837\n",
      "Epoch 5: \n",
      "Train Loss = 0.05151, Validation Loss = 0.05850\n",
      "Train Acc = 0.981511, Validation Acc = 0.978700\n",
      "Epoch 6: \n",
      "Train Loss = 0.04535, Validation Loss = 0.05353\n",
      "Train Acc = 0.983796, Validation Acc = 0.979673\n",
      "Epoch 7: \n",
      "Train Loss = 0.04206, Validation Loss = 0.04957\n",
      "Train Acc = 0.984542, Validation Acc = 0.981312\n",
      "Epoch 8: \n",
      "Train Loss = 0.03962, Validation Loss = 0.04343\n",
      "Train Acc = 0.985848, Validation Acc = 0.982665\n",
      "Epoch 9: \n",
      "Train Loss = 0.03361, Validation Loss = 0.03660\n",
      "Train Acc = 0.988281, Validation Acc = 0.987462\n",
      "Epoch 10: \n",
      "Train Loss = 0.03297, Validation Loss = 0.04357\n",
      "Train Acc = 0.988075, Validation Acc = 0.984826\n",
      "Epoch 11: \n",
      "Train Loss = 0.03088, Validation Loss = 0.03535\n",
      "Train Acc = 0.988411, Validation Acc = 0.986655\n",
      "Epoch 12: \n",
      "Train Loss = 0.02954, Validation Loss = 0.03238\n",
      "Train Acc = 0.988800, Validation Acc = 0.986987\n",
      "Epoch 13: \n",
      "Train Loss = 0.02595, Validation Loss = 0.03800\n",
      "Train Acc = 0.990373, Validation Acc = 0.987320\n",
      "Epoch 14: \n",
      "Train Loss = 0.02467, Validation Loss = 0.03549\n",
      "Train Acc = 0.991003, Validation Acc = 0.988008\n",
      "Epoch 15: \n",
      "Train Loss = 0.02555, Validation Loss = 0.03638\n",
      "Train Acc = 0.990556, Validation Acc = 0.985657\n",
      "Epoch 16: \n",
      "Train Loss = 0.02300, Validation Loss = 0.03392\n",
      "Train Acc = 0.991021, Validation Acc = 0.987652\n",
      "Epoch 17: \n",
      "Train Loss = 0.02105, Validation Loss = 0.02885\n",
      "Train Acc = 0.992243, Validation Acc = 0.988483\n",
      "Epoch 18: \n",
      "Train Loss = 0.02116, Validation Loss = 0.04201\n",
      "Train Acc = 0.992000, Validation Acc = 0.986132\n",
      "Epoch 19: \n",
      "Train Loss = 0.01845, Validation Loss = 0.04653\n",
      "Train Acc = 0.993314, Validation Acc = 0.985349\n",
      "Epoch 20: \n",
      "Train Loss = 0.01954, Validation Loss = 0.04033\n",
      "Train Acc = 0.992537, Validation Acc = 0.985657\n",
      "Epoch 21: \n",
      "Train Loss = 0.01680, Validation Loss = 0.03454\n",
      "Train Acc = 0.993684, Validation Acc = 0.987676\n",
      "Epoch 22: \n",
      "Train Loss = 0.01492, Validation Loss = 0.03277\n",
      "Train Acc = 0.994205, Validation Acc = 0.988507\n",
      "Early stopping triggered.\n"
     ]
    }
   ],
   "source": [
    "EPOCHS = 25\n",
    "train_loss = []\n",
    "val_loss = []\n",
    "train_acc = []\n",
    "val_acc = []\n",
    "\n",
    "early_stopper = EarlyStopping(path=\".checkpoint/model_checkpoint.pt\")\n",
    "\n",
    "for epoch in range(EPOCHS):\n",
    "    model.train()\n",
    "    tloss = 0\n",
    "    tacc = 0\n",
    "    for batch_idx, (x, y) in enumerate(train_loader):\n",
    "        x = x.to(device, non_blocking = True)\n",
    "        y = y.to(device, non_blocking = True)\n",
    "        pred = model(x)\n",
    "\n",
    "        loss = criterion(pred, y)\n",
    "\n",
    "        for param in model.parameters():\n",
    "            param.grad = None\n",
    "        loss.backward()\n",
    "        optimizer.step()\n",
    "\n",
    "        tloss += loss.detach()\n",
    "        tacc += accuracy(pred, y)\n",
    "\n",
    "    train_loss.append(tloss/len(train_loader))\n",
    "    train_acc.append(tacc/len(train_loader))\n",
    "\n",
    "    model.eval()\n",
    "    tloss = 0\n",
    "    tacc = 0\n",
    "    for batch_idx, (x, y) in enumerate(val_loader):\n",
    "        x = x.to(device, non_blocking = True)\n",
    "        y = y.to(device, non_blocking = True)\n",
    "        pred = model(x)\n",
    "\n",
    "        loss = criterion(pred, y)\n",
    "\n",
    "        tloss += loss.detach()\n",
    "        tacc += accuracy(pred, y)\n",
    "    \n",
    "    val_loss.append(tloss/len(val_loader))\n",
    "    val_acc.append(tacc/len(val_loader))\n",
    "\n",
    "    early_stopper(val_loss[-1], model)\n",
    "    print(f\"Epoch {epoch + 1}: \\nTrain Loss = {train_loss[-1]:.5f}, Validation Loss = {val_loss[-1]:.5f}\")\n",
    "    print(f\"Train Acc = {train_acc[-1]:-5f}, Validation Acc = {val_acc[-1]:-5f}\")\n",
    "    if early_stopper.early_stop:\n",
    "      print(\"Early stopping triggered.\")\n",
    "      break\n"
   ]
  },
  {
   "cell_type": "code",
   "execution_count": 10,
   "id": "81c427d6",
   "metadata": {},
   "outputs": [
    {
     "data": {
      "image/png": "[encoded data removed]",
      "text/plain": [
       "<Figure size 640x480 with 1 Axes>"
      ]
     },
     "metadata": {},
     "output_type": "display_data"
    }
   ],
   "source": [
    "import matplotlib.pyplot as plt\n",
    "train_loss = [it.cpu() for it in train_loss]\n",
    "tloss = [it.cpu() for it in val_loss]\n",
    "plt.plot(train_loss, label = \"Train\")\n",
    "plt.plot(tloss, label = \"Test\")\n",
    "\n",
    "plt.xlabel(\"Epochs\")\n",
    "plt.ylabel(\"Loss\")\n",
    "\n",
    "plt.legend()\n",
    "\n",
    "plt.show()"
   ]
  },
  {
   "cell_type": "code",
   "execution_count": 11,
   "id": "32ee500d",
   "metadata": {},
   "outputs": [
    {
     "data": {
      "image/png": "[encoded data removed]",
      "text/plain": [
       "<Figure size 640x480 with 1 Axes>"
      ]
     },
     "metadata": {},
     "output_type": "display_data"
    }
   ],
   "source": [
    "train_acc = [it.cpu() for it in train_acc]\n",
    "tacc= [it.cpu() for it in val_acc]\n",
    "plt.plot(train_acc, label = \"Train\")\n",
    "plt.plot(tacc, label = \"Test\")\n",
    "\n",
    "plt.xlabel(\"Epochs\")\n",
    "plt.ylabel(\"Loss\")\n",
    "\n",
    "plt.legend()\n",
    "\n",
    "plt.show()"
   ]
  },
  {
   "cell_type": "code",
   "execution_count": 12,
   "id": "1000c64a",
   "metadata": {},
   "outputs": [
    {
     "name": "stdout",
     "output_type": "stream",
     "text": [
      "Test Loss = 0.039151, Test Acc = 0.987441\n"
     ]
    }
   ],
   "source": [
    "model.eval()\n",
    "tloss = 0\n",
    "tacc = 0\n",
    "for batch_idx, (x, y) in enumerate(test_loader):\n",
    "    x = x.to(device, non_blocking = True)\n",
    "    y = y.to(device, non_blocking = True)\n",
    "    pred = model(x)\n",
    "\n",
    "    loss = criterion(pred, y)\n",
    "\n",
    "    tloss += loss.detach()\n",
    "    tacc += accuracy(pred, y)\n",
    "\n",
    "tloss = (tloss/len(test_loader))\n",
    "tacc = (tacc/len(test_loader))\n",
    "print(f\"Test Loss = {tloss:-5f}, Test Acc = {tacc:-5f}\")"
   ]
  },
  {
   "cell_type": "code",
   "execution_count": null,
   "id": "951b7716",
   "metadata": {},
   "outputs": [],
   "source": []
  }
 ],
 "metadata": {
  "kernelspec": {
   "display_name": "tf",
   "language": "python",
   "name": "python3"
  },
  "language_info": {
   "codemirror_mode": {
    "name": "ipython",
    "version": 3
   },
   "file_extension": ".py",
   "mimetype": "text/x-python",
   "name": "python",
   "nbconvert_exporter": "python",
   "pygments_lexer": "ipython3",
   "version": "3.12.3"
  }
 },
 "nbformat": 4,
 "nbformat_minor": 5
}
